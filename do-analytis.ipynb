{
 "cells": [
  {
   "cell_type": "markdown",
   "metadata": {},
   "source": [
    "# Do some Analysis"
   ]
  },
  {
   "cell_type": "code",
   "execution_count": 74,
   "metadata": {},
   "outputs": [],
   "source": [
    "import numpy as np\n",
    "from json import loads, dumps\n",
    "from os import path, makedirs\n",
    "import openpyxl\n",
    "\n",
    "import xml.etree.ElementTree as ElementTree"
   ]
  },
  {
   "cell_type": "code",
   "execution_count": 82,
   "metadata": {},
   "outputs": [],
   "source": [
    "data = None\n",
    "with open('results-yash-testing.json', 'r') as dataInputFile:\n",
    "    data = loads(dataInputFile.read())\n",
    "\n",
    "excel_wb = openpyxl.Workbook()"
   ]
  },
  {
   "cell_type": "code",
   "execution_count": 83,
   "metadata": {},
   "outputs": [],
   "source": [
    "# excel lines: [Profile #, filename, aggregateVMAF, aggregatePSNR, aggreggateSSIM, aggreggateMS_SSIM]\n",
    "\n",
    "# l0: each key is a filename\n",
    "for filename in data:\n",
    "    results_for_file = data[filename]\n",
    "    \n",
    "    # L1: each key is a codec\n",
    "    for codec in results_for_file:\n",
    "        results_for_codec = results_for_file[codec]\n",
    "        sheetname = codec.replace('/', '-')\n",
    "        if sheetname not in excel_wb.sheetnames:\n",
    "            excel_wb.create_sheet(sheetname)\n",
    "            excel_wb[sheetname].cell(row=1, column=1).value = 'profile #'\n",
    "            excel_wb[sheetname].cell(row=1, column=2).value = 'filename'\n",
    "            excel_wb[sheetname].cell(row=1, column=3).value = 'profile'\n",
    "            excel_wb[sheetname].cell(row=1, column=4).value = 'VMAF'\n",
    "            excel_wb[sheetname].cell(row=1, column=5).value = 'PSNR'\n",
    "            excel_wb[sheetname].cell(row=1, column=6).value = 'SSIM'\n",
    "            excel_wb[sheetname].cell(row=1, column=7).value = 'MS_SSIM'\n",
    "        \n",
    "        cur_sheet = excel_wb[sheetname]\n",
    "        \n",
    "        i = 0\n",
    "        for profile in results_for_codec:\n",
    "            (profile, results) = (profile['profile'], profile['output'])\n",
    "\n",
    "            p = path.join('.', 'outputs', filename.replace('/', '-'), codec.replace('/', '-'))\n",
    "            try:\n",
    "                makedirs(p)\n",
    "            except:\n",
    "                pass\n",
    "            with open(path.join(p, 'profile-' + str(i) + '.xml'), 'w') as fil:\n",
    "                fil.write(results)\n",
    "            with open(path.join(p, 'profile-' + str(i) + '-settings.json'), 'w') as fil:\n",
    "                fil.write(dumps(profile))\n",
    "            \n",
    "            xmltree = ElementTree.parse(path.join(p, 'profile-' + str(i) + '.xml'))\n",
    "            root = xmltree.getroot()\n",
    "            \n",
    "            res_vmaf = [a.attrib for a in root.findall('./fyi')][0]\n",
    "            \n",
    "            excel_wb[sheetname].append((\n",
    "                i,\n",
    "                filename,\n",
    "                str(profile),\n",
    "                float(res_vmaf['aggregateVMAF']),\n",
    "                float(res_vmaf['aggregatePSNR']),\n",
    "                float(res_vmaf['aggregateSSIM']) * 100.,\n",
    "                float(res_vmaf['aggregateMS_SSIM']) * 100.\n",
    "            ))\n",
    "#            excel_wb[sheetname].append(('prof#', 'fil', 'prof', 'vmaf', 'psnr', 'ssim', 'msssim'))\n",
    "            \n",
    "            i += 1"
   ]
  },
  {
   "cell_type": "code",
   "execution_count": 84,
   "metadata": {},
   "outputs": [],
   "source": [
    "excel_wb.save('results.xlsx')"
   ]
  }
 ],
 "metadata": {
  "kernelspec": {
   "display_name": "Python 3",
   "language": "python",
   "name": "python3"
  },
  "language_info": {
   "codemirror_mode": {
    "name": "ipython",
    "version": 3
   },
   "file_extension": ".py",
   "mimetype": "text/x-python",
   "name": "python",
   "nbconvert_exporter": "python",
   "pygments_lexer": "ipython3",
   "version": "3.6.8"
  }
 },
 "nbformat": 4,
 "nbformat_minor": 2
}
